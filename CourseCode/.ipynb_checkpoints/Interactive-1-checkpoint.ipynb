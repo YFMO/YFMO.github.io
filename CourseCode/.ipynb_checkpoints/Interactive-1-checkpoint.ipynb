{
 "cells": [
  {
   "cell_type": "markdown",
   "metadata": {},
   "source": [
    "Connected to anaconda3 (Python 3.12.4)"
   ]
  },
  {
   "cell_type": "code",
   "execution_count": 15,
   "metadata": {},
   "outputs": [],
   "source": [
    "def sum_1(a, b, c):\n",
    "    return a + b + c\n",
    "\n",
    "def sum_2(a, b):\n",
    "    a = a + b\n",
    "    return a\n",
    "\n",
    "def sum_3(a, b ,c):\n",
    "    result = a + b + c\n",
    "    return result\n",
    "\n",
    "def sum_n(inputs):\n",
    "    result = 0\n",
    "    for i in inputs:\n",
    "        result += i\n",
    "    return result\n",
    "        \n",
    "def sum_5(inputs):\n",
    "    return sum(inputs)\n",
    "\n",
    "import time\n",
    "a = 10\n",
    "b = 90\n",
    "c = 110"
   ]
  },
  {
   "cell_type": "code",
   "execution_count": 45,
   "metadata": {},
   "outputs": [
    {
     "name": "stdout",
     "output_type": "stream",
     "text": [
      "The algorithm takes 5.91278076171875e-05 seconds to calculate the result 200\n",
      "The algorithm takes 0.00014901161193847656 seconds to calculate the result 200\n",
      "The algorithm takes 0.00011086463928222656 seconds to calculate the result 200\n",
      "The algorithm takes 0.00011301040649414062 seconds to calculate the result 200\n",
      "The algorithm takes 0.00011086463928222656 seconds to calculate the result 200\n"
     ]
    }
   ],
   "source": [
    "start = time.time()\n",
    "x = sum_1(a, b, c)\n",
    "end = time.time()\n",
    "print('The algorithm takes {} seconds to calculate the result {}'.format(end-start, x))\n",
    "\n",
    "start = time.time()\n",
    "x = sum_2(a, b, c)\n",
    "end = time.time()\n",
    "print('The algorithm takes {} seconds to calculate the result {}'.format(end-start, x))\n",
    "\n",
    "start = time.time()\n",
    "x = sum_3(a, b, c)\n",
    "end = time.time()\n",
    "print('The algorithm takes {} seconds to calculate the result {}'.format(end-start, x))\n",
    "\n",
    "start = time.time()\n",
    "x = sum_4([a, b, c])\n",
    "end = time.time()\n",
    "print('The algorithm takes {} seconds to calculate the result {}'.format(end-start, x))\n",
    "\n",
    "start = time.time()\n",
    "x = sum_5([a, b, c])\n",
    "end = time.time()\n",
    "print('The algorithm takes {} seconds to calculate the result {}'.format(end-start, x))\n"
   ]
  },
  {
   "cell_type": "code",
   "execution_count": null,
   "metadata": {},
   "outputs": [],
   "source": []
  },
  {
   "cell_type": "code",
   "execution_count": null,
   "metadata": {},
   "outputs": [],
   "source": []
  }
 ],
 "metadata": {
  "kernelspec": {
   "display_name": "Python 3 (ipykernel)",
   "language": "python",
   "name": "python3"
  },
  "language_info": {
   "codemirror_mode": {
    "name": "ipython",
    "version": 3
   },
   "file_extension": ".py",
   "mimetype": "text/x-python",
   "name": "python",
   "nbconvert_exporter": "python",
   "pygments_lexer": "ipython3",
   "version": "3.12.4"
  }
 },
 "nbformat": 4,
 "nbformat_minor": 4
}
