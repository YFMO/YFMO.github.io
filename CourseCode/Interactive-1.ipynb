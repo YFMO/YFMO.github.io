{
 "cells": [
  {
   "cell_type": "markdown",
   "metadata": {},
   "source": [
    "Connected to anaconda3 (Python 3.12.4)"
   ]
  },
  {
   "cell_type": "code",
   "execution_count": 3,
   "metadata": {},
   "outputs": [
    {
     "name": "stdout",
     "output_type": "stream",
     "text": [
      "7\n",
      "6\n",
      "5\n",
      "4\n",
      "3\n",
      "2\n",
      "1\n",
      "0\n"
     ]
    }
   ],
   "source": [
    "# Count down to zero with Iteration\n",
    "def countdown(n):\n",
    "    while n >= 0:\n",
    "        print(n)\n",
    "        n -= 1\n",
    "\n",
    "\n",
    "# Count down to zero with Recursion\n",
    "def countdown(n):\n",
    "    print(n)\n",
    "    if n == 0:             # Terminate condition\n",
    "        return             \n",
    "    else:\n",
    "        countdown(n - 1)   # Recursive call\n",
    "\n",
    "\n",
    "countdown(7)"
   ]
  },
  {
   "cell_type": "code",
   "execution_count": 68,
   "metadata": {},
   "outputs": [
    {
     "name": "stdout",
     "output_type": "stream",
     "text": [
      "6\n",
      "6\n",
      "1\n",
      "1\n"
     ]
    }
   ],
   "source": [
    "\n",
    "\n",
    "# sample comment \n",
    "# This is Python Comment\n",
    "# print(\"Hello World!\")\n",
    "\n",
    "# sum with Recursion\n",
    "def sum_n_Recur(n):\n",
    "    if n <= 1:\n",
    "        return n\n",
    "    return n + sum_n_Recur(n-1)\n",
    "\n",
    "# sum with Iteration\n",
    "def sum_n_Iter(n):\n",
    "    result = 0\n",
    "    for i in range(n+1):\n",
    "        result += i\n",
    "    return result\n",
    "\n",
    "print(sum_n_Recur(3))\n",
    "print(sum_n_Iter(3))\n",
    "\n",
    "\n",
    "# factorial with Recursion\n",
    "def factorial_Recur(n):\n",
    "    if n == 0:\n",
    "        return 1\n",
    "    return n * factorial_Recur(n-1)\n",
    "\n",
    "# factorial with Iteration\n",
    "def factorial_Iter(n):\n",
    "    result = 1\n",
    "    for i in range(1,n+1):\n",
    "        result *= i\n",
    "    return result\n",
    "\n",
    "print(factorial_Recur(0))\n",
    "print(factorial_Iter(0))"
   ]
  },
  {
   "cell_type": "code",
   "execution_count": 145,
   "metadata": {},
   "outputs": [
    {
     "name": "stdout",
     "output_type": "stream",
     "text": [
      "0\n",
      "1\n",
      "3\n",
      "1\n",
      "2\n",
      "4\n",
      "2\n",
      "3\n",
      "5\n",
      "[3, 4, 5]\n"
     ]
    }
   ],
   "source": [
    "\n",
    "def sum_1(a, b, c):\n",
    "    return a + b + c\n",
    "\n",
    "def sum_2(a, b):\n",
    "    a = a + b\n",
    "    return a\n",
    "\n",
    "def sum_3(a, b ,c):\n",
    "    result = a + b + c\n",
    "    return result\n",
    "\n",
    "def sum_n_i(inputs):\n",
    "    result = 0\n",
    "    for i in inputs:\n",
    "        result += i\n",
    "    return result\n",
    "        \n",
    "def sum_5(inputs):\n",
    "    return sum(inputs)\n",
    "\n",
    "\n",
    "def main(n):\n",
    "    for i in range(n):\n",
    "        print(i)\n",
    "  \n",
    "\n",
    "def main2(n):\n",
    "    for i in range(n):\n",
    "        for j in range(n):\n",
    "            print(i+j)\n",
    "\n",
    "\n",
    "\n",
    "def main3(n):\n",
    "    a = []\n",
    "    for i in range(n):\n",
    "        a.append(i)\n",
    "        for j in range(n):\n",
    "            a[i] = a[i] + j\n",
    "            print(a[i])\n",
    "    return a\n",
    "\n",
    "x = main3(3)\n",
    "print(x)\n",
    "\n",
    "def factorial(n):\n",
    "    for _ in range(n):\n",
    "        print(n)\n",
    "        factorial(n-1)\n",
    "\n"
   ]
  },
  {
   "cell_type": "code",
   "execution_count": 144,
   "metadata": {},
   "outputs": [
    {
     "name": "stdout",
     "output_type": "stream",
     "text": [
      "0\n",
      "1\n",
      "3\n",
      "1\n",
      "2\n",
      "4\n",
      "2\n",
      "3\n",
      "5\n",
      "[3, 4, 5]\n"
     ]
    }
   ],
   "source": []
  },
  {
   "cell_type": "code",
   "execution_count": 59,
   "metadata": {},
   "outputs": [
    {
     "name": "stdout",
     "output_type": "stream",
     "text": [
      "The results of f_30 is 832040.\n",
      "The FIRST algorithm takes 3.15065598487854 second to calculate!\n",
      "The results of f_30 is 832040.\n",
      "The SECOND algorithm takes 0.00010323524475097656 second to calculate!\n"
     ]
    }
   ],
   "source": [
    "# Algorithm 1\n",
    "def get_fn_1(n):\n",
    "    if n < 2:\n",
    "        fn = n\n",
    "    else:\n",
    "        fn = get_fn_1(n-1) + get_fn_1(n-2)\n",
    "    return fn\n",
    "    \n",
    "# Algorithm 2\n",
    "def get_fn_2(n):\n",
    "    if n < 2:\n",
    "        fn = n\n",
    "    else:\n",
    "        first = 0\n",
    "        second = 1\n",
    "        for _ in range(n-1):\n",
    "            sum = first + second\n",
    "            first = second\n",
    "            second = sum\n",
    "        fn = second\n",
    "    return fn\n",
    "\n",
    "import time\n",
    "n = 30\n",
    "\n",
    "start = time.time()  \n",
    "results = get_fn_1(n)\n",
    "end = time.time()\n",
    "print('The results of f_{} is {}.'.format(n, results))\n",
    "print('The FIRST algorithm takes {} second to calculate!'.format(end - start))\n",
    "\n",
    "start = time.time()\n",
    "results = get_fn_2(n)\n",
    "end = time.time()\n",
    "print('The results of f_{} is {}.'.format(n, results))\n",
    "print('The SECOND algorithm takes {} second to calculate!'.format(end - start))"
   ]
  },
  {
   "cell_type": "code",
   "execution_count": null,
   "metadata": {},
   "outputs": [
    {
     "ename": "",
     "evalue": "",
     "output_type": "error",
     "traceback": [
      "\u001b[1;31mRunning cells with 'Python 3.12.4' requires the ipykernel package.\n",
      "\u001b[1;31mRun the following command to install 'ipykernel' into the Python environment. \n",
      "\u001b[1;31mCommand: '/opt/homebrew/bin/python3 -m pip install ipykernel -U --user --force-reinstall'"
     ]
    }
   ],
   "source": [
    "a = 5\n",
    "print(a % 2 == 1) \n",
    "print(\"Hello World!\")\n",
    "b = [0, 2, 1]\n",
    "x = b[1]\n",
    "b.append(a)\n",
    "print(a+1)\n"
   ]
  },
  {
   "cell_type": "code",
   "execution_count": 147,
   "metadata": {},
   "outputs": [
    {
     "name": "stdout",
     "output_type": "stream",
     "text": [
      "Hello World !!!\n",
      "Hello World !!!\n",
      "Hello World !!!\n"
     ]
    }
   ],
   "source": [
    "\n",
    "def log_print(n):\n",
    "    i = 1\n",
    "    while i <= n:\n",
    "        print(\"Hello World !!!\")\n",
    "        i = 2 * i\n",
    "        \n",
    "log_print(4)\n",
    "\n",
    "def nlog_print(n):\n",
    "    for j in range(n):\n",
    "        i = 1\n",
    "        while i <= n:\n",
    "            print(\"Hello World !!!\")\n",
    "            i = 2 * i\n",
    "\n",
    "# nlog_print(4)\n",
    "\n",
    "def loglog_print(n):\n",
    "    i = 2\n",
    "    for j in range(2,n+1):\n",
    "        if(i >= n):\n",
    "            break \n",
    "        print(\"Hello World !!!\")   \n",
    "        i *= i\n",
    "\n",
    "# loglog_print(4)"
   ]
  },
  {
   "cell_type": "code",
   "execution_count": 129,
   "metadata": {},
   "outputs": [
    {
     "ename": "NameError",
     "evalue": "name 'binary_search' is not defined",
     "output_type": "error",
     "traceback": [
      "\u001b[0;31m---------------------------------------------------------------------------\u001b[0m",
      "\u001b[0;31mNameError\u001b[0m                                 Traceback (most recent call last)",
      "Cell \u001b[0;32mIn[129], line 46\u001b[0m\n\u001b[1;32m     43\u001b[0m x \u001b[38;5;241m=\u001b[39m \u001b[38;5;241m10\u001b[39m\n\u001b[1;32m     45\u001b[0m \u001b[38;5;66;03m# Function call\u001b[39;00m\n\u001b[0;32m---> 46\u001b[0m result \u001b[38;5;241m=\u001b[39m binary_search(arr, \u001b[38;5;241m0\u001b[39m, \u001b[38;5;28mlen\u001b[39m(arr)\u001b[38;5;241m-\u001b[39m\u001b[38;5;241m1\u001b[39m, x)\n\u001b[1;32m     48\u001b[0m \u001b[38;5;28;01mif\u001b[39;00m result \u001b[38;5;241m!=\u001b[39m \u001b[38;5;241m-\u001b[39m\u001b[38;5;241m1\u001b[39m:\n\u001b[1;32m     49\u001b[0m     \u001b[38;5;28mprint\u001b[39m(\u001b[38;5;124m\"\u001b[39m\u001b[38;5;124mElement is present at index\u001b[39m\u001b[38;5;124m\"\u001b[39m, \u001b[38;5;28mstr\u001b[39m(result))\n",
      "\u001b[0;31mNameError\u001b[0m: name 'binary_search' is not defined"
     ]
    }
   ],
   "source": [
    "\n"
   ]
  }
 ],
 "metadata": {
  "kernelspec": {
   "display_name": "Python 3 (ipykernel)",
   "language": "python",
   "name": "python3"
  },
  "language_info": {
   "codemirror_mode": {
    "name": "ipython",
    "version": 3
   },
   "file_extension": ".py",
   "mimetype": "text/x-python",
   "name": "python",
   "nbconvert_exporter": "python",
   "pygments_lexer": "ipython3",
   "version": "3.12.4"
  }
 },
 "nbformat": 4,
 "nbformat_minor": 4
}
